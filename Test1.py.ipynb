{
 "cells": [
  {
   "cell_type": "markdown",
   "metadata": {},
   "source": [
    "<center>\n",
    "    <img src=\"https://cf-courses-data.s3.us.cloud-object-storage.appdomain.cloud/IBMDeveloperSkillsNetwork-DS0105EN-SkillsNetwork/labs/Module2/images/SN_web_lightmode.png\" width=\"300\" alt=\"cognitiveclass.ai logo\">\n",
    "</center>\n"
   ]
  },
  {
   "cell_type": "markdown",
   "metadata": {},
   "source": [
    "#### Add your code below following the instructions given in the course\n"
   ]
  },
  {
   "cell_type": "markdown",
   "metadata": {},
   "source": [
    "# My Jupyter Notebook on IBM Watson Studio"
   ]
  },
  {
   "cell_type": "markdown",
   "metadata": {},
   "source": [
    "# Akhil\n",
    "### Data scientist"
   ]
  },
  {
   "cell_type": "markdown",
   "metadata": {},
   "source": [
    "### I am interested in data science because it combines my passion for technology, problem-solving. With data science, I am able to leverage large amounts of data to extract meaningful insights, develop predictive models, and create data-driven solutions to real-world problems. Additionally,I am completed data analytics"
   ]
  },
  {
   "cell_type": "markdown",
   "metadata": {},
   "source": [
    "#### This code defines a list of numbers and a function to calculate their average"
   ]
  },
  {
   "cell_type": "code",
   "execution_count": 15,
   "metadata": {},
   "outputs": [
    {
     "name": "stdout",
     "output_type": "stream",
     "text": [
      "The average of the numbers is: 15.0\n"
     ]
    }
   ],
   "source": [
    "# Define a list of numbers\n",
    "numbers = [5, 10, 15, 20, 25]\n",
    "\n",
    "# Define a function to calculate the average of a list of numbers\n",
    "def calculate_average(numbers):\n",
    "    sum = 0\n",
    "    for number in numbers:\n",
    "        sum += number\n",
    "    average = sum / len(numbers)\n",
    "    return average\n",
    "\n",
    "# Call the function and print the result\n",
    "average = calculate_average(numbers)\n",
    "\n",
    "print(\"The average of the numbers is:\", average)\n"
   ]
  },
  {
   "cell_type": "markdown",
   "metadata": {},
   "source": [
    "<table>\n",
    "  <tr>\n",
    "    <th>Name</th>\n",
    "    <th>Age</th>\n",
    "    <th>Location</th>\n",
    "  </tr>\n",
    "  <tr>\n",
    "    <td>Akhil</td>\n",
    "    <td>23</td>\n",
    "    <td>India</td>\n",
    "  </tr>\n",
    "  <tr>\n",
    "    <td>Abisha</td>\n",
    "    <td>20</td>\n",
    "    <td>India</td>\n",
    "  </tr>\n",
    "</table>\n",
    "<br>\n",
    "<p><a href=\"https://www.ibm.com/case-studies/search\" target=\"_blank\">IBM</a>.</p>\n",
    "<br>\n"
   ]
  },
  {
   "cell_type": "markdown",
   "metadata": {},
   "source": [
    "## This code will convert the minutes into hours"
   ]
  },
  {
   "cell_type": "code",
   "execution_count": 18,
   "metadata": {},
   "outputs": [
    {
     "name": "stdout",
     "output_type": "stream",
     "text": [
      "120 minutes is equal to 2.00 hours\n"
     ]
    }
   ],
   "source": [
    "# Convert minutes to hours\n",
    "minutes = 120\n",
    "hours = minutes / 60\n",
    "\n",
    "# Print result\n",
    "print(f\"{minutes} minutes is equal to {hours:.2f} hours\")\n"
   ]
  },
  {
   "cell_type": "markdown",
   "metadata": {},
   "source": [
    "## list data science libraries\n",
    "### NumPy,\n",
    "### Pandas,\n",
    "### Matplotlib,\n",
    "### Scikit-learn,\n",
    "### TensorFlow."
   ]
  },
  {
   "cell_type": "markdown",
   "metadata": {},
   "source": [
    "### Data Science Tools\n",
    "#### Tool\n",
    "#### Jupyter\n",
    "#### Anaconda\n",
    "#### Tableau\n",
    "#### Apache Spark\n",
    "#### Git\n",
    "#### AWS"
   ]
  },
  {
   "cell_type": "code",
   "execution_count": 26,
   "metadata": {},
   "outputs": [
    {
     "name": "stdout",
     "output_type": "stream",
     "text": [
      "Popular data science languages:\n",
      ".Python\n",
      ".R\n",
      ".SQL\n"
     ]
    }
   ],
   "source": [
    "# Create a list of data science languages\n",
    "data_science_languages = [\"Python\", \"R\", \"SQL\"]\n",
    "\n",
    "# Print the list to the console\n",
    "print(\"Popular data science languages:\")\n",
    "for language in data_science_languages:\n",
    "    print( \".\"+ language)\n",
    "\n",
    "    "
   ]
  },
  {
   "cell_type": "markdown",
   "metadata": {},
   "source": [
    "## Thank you"
   ]
  }
 ],
 "metadata": {
  "kernelspec": {
   "display_name": "Python",
   "language": "python",
   "name": "conda-env-python-py"
  },
  "language_info": {
   "codemirror_mode": {
    "name": "ipython",
    "version": 3
   },
   "file_extension": ".py",
   "mimetype": "text/x-python",
   "name": "python",
   "nbconvert_exporter": "python",
   "pygments_lexer": "ipython3",
   "version": "3.7.12"
  }
 },
 "nbformat": 4,
 "nbformat_minor": 4
}
